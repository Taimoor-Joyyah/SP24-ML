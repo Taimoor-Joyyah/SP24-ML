{
 "cells": [
  {
   "cell_type": "markdown",
   "source": [
    "**11-3-2024**\n",
    "**CSC461 – Assignment1 – IDS – Web Scraping**\n",
    "**Muhammad Taimoor**\n",
    "**FA21-BSE-134**\n",
    "**Candidate-Elimination algorithm**"
   ],
   "metadata": {
    "collapsed": false
   },
   "id": "21deaba82ed74ef6"
  },
  {
   "cell_type": "code",
   "execution_count": 18,
   "outputs": [],
   "source": [
    "examples = [\n",
    "    (\"big\", \"red\", \"circle\", \"no\"),\n",
    "    (\"small\", \"red\", \"triangle\", \"no\"),\n",
    "    (\"small\", \"red\", \"circle\", \"yes\"),\n",
    "    (\"big\", \"blue\", \"circle\", \"no\"),\n",
    "    (\"small\", \"blue\", \"circle\", \"yes\"),\n",
    "]"
   ],
   "metadata": {
    "collapsed": false,
    "ExecuteTime": {
     "end_time": "2024-03-11T16:00:33.352573700Z",
     "start_time": "2024-03-11T16:00:33.304216500Z"
    }
   },
   "id": "a7d67e3656b13438"
  },
  {
   "cell_type": "code",
   "execution_count": 19,
   "outputs": [],
   "source": [
    "S = [None] * len(examples[0][:-1])\n",
    "G = [['?'] * len(examples[0][:-1])]"
   ],
   "metadata": {
    "collapsed": false,
    "ExecuteTime": {
     "end_time": "2024-03-11T16:00:33.357082600Z",
     "start_time": "2024-03-11T16:00:33.327562800Z"
    }
   },
   "id": "a0f405648930c3b7"
  },
  {
   "cell_type": "code",
   "execution_count": 20,
   "outputs": [],
   "source": [
    "for instance in examples:\n",
    "    if instance[-1] == 'yes':  \n",
    "        for i, attr_value in enumerate(instance[:-1]):\n",
    "            if S[i] is None:\n",
    "                S[i] = attr_value\n",
    "            elif S[i] != attr_value:\n",
    "                S[i] = '?'\n",
    "        G = [g for g in G if all(s == '?' or s == g[i] for i, s in enumerate(S))]\n",
    "    else:  \n",
    "        for i, attr_value in enumerate(instance[:-1]):\n",
    "            if S[i] != '?':\n",
    "                new_G = []\n",
    "                for g in G:\n",
    "                    if g[i] == '?':\n",
    "                        for val in set(example[i] for example in examples):\n",
    "                            if val != attr_value:\n",
    "                                new_hypothesis = list(g[:i]) + [val] + list(g[i+1:])\n",
    "                                new_G.append(new_hypothesis)\n",
    "                G.extend(new_G)\n",
    "                G = [g for g in G if all(s == '?' or s == g[i] for i, s in enumerate(S))]"
   ],
   "metadata": {
    "collapsed": false,
    "ExecuteTime": {
     "end_time": "2024-03-11T16:00:33.384147400Z",
     "start_time": "2024-03-11T16:00:33.336074100Z"
    }
   },
   "id": "6ac7aac39eff92ce"
  },
  {
   "cell_type": "code",
   "execution_count": 21,
   "outputs": [],
   "source": [
    "S = tuple(S)\n",
    "G = [tuple(g) for g in G]"
   ],
   "metadata": {
    "collapsed": false,
    "ExecuteTime": {
     "end_time": "2024-03-11T16:00:33.384147400Z",
     "start_time": "2024-03-11T16:00:33.344314800Z"
    }
   },
   "id": "7002874a39888470"
  },
  {
   "cell_type": "code",
   "execution_count": 22,
   "outputs": [
    {
     "name": "stdout",
     "output_type": "stream",
     "text": [
      "S = ('small', '?', 'circle')\n",
      "G = []\n"
     ]
    }
   ],
   "source": [
    "print(\"S =\", S)        \n",
    "print(\"G =\", G)"
   ],
   "metadata": {
    "collapsed": false,
    "ExecuteTime": {
     "end_time": "2024-03-11T16:00:33.384147400Z",
     "start_time": "2024-03-11T16:00:33.351140200Z"
    }
   },
   "id": "a2b4e02f07569962"
  }
 ],
 "metadata": {
  "kernelspec": {
   "display_name": "Python 3",
   "language": "python",
   "name": "python3"
  },
  "language_info": {
   "codemirror_mode": {
    "name": "ipython",
    "version": 2
   },
   "file_extension": ".py",
   "mimetype": "text/x-python",
   "name": "python",
   "nbconvert_exporter": "python",
   "pygments_lexer": "ipython2",
   "version": "2.7.6"
  }
 },
 "nbformat": 4,
 "nbformat_minor": 5
}
